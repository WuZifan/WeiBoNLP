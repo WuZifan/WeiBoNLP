{
 "cells": [
  {
   "cell_type": "markdown",
   "metadata": {},
   "source": [
    "# 情感分类\n",
    "\n",
    "    1、考虑使用情感分类，对每条文档进行情感分析"
   ]
  },
  {
   "cell_type": "code",
   "execution_count": 46,
   "metadata": {},
   "outputs": [],
   "source": [
    "import jieba\n",
    "import jieba.posseg as pseg\n",
    "import jieba.analyse\n",
    "import pandas as pd\n",
    "import re\n",
    "import my_utils\n",
    "import numpy as np"
   ]
  },
  {
   "cell_type": "code",
   "execution_count": 35,
   "metadata": {},
   "outputs": [],
   "source": [
    "'''\n",
    "加载数据所用函数\n",
    "'''\n",
    "def load_words(path,store_list):\n",
    "    with open(path,'r',encoding='utf-8') as f:\n",
    "        line=f.readline()\n",
    "        while line:\n",
    "            store_list.append(line[:-1])\n",
    "            line=f.readline()\n",
    "    return store_list"
   ]
  },
  {
   "cell_type": "code",
   "execution_count": 31,
   "metadata": {},
   "outputs": [],
   "source": [
    "'''\n",
    "加载原始数据\n",
    "'''\n",
    "raw_data=raw_data=pd.read_csv('left_11335.csv')"
   ]
  },
  {
   "cell_type": "code",
   "execution_count": 37,
   "metadata": {},
   "outputs": [],
   "source": [
    "'''\n",
    "加载停用词\n",
    "'''\n",
    "stop_words=[]\n",
    "stop_words=load_words('stop_words.txt',stop_words)\n"
   ]
  },
  {
   "cell_type": "code",
   "execution_count": 26,
   "metadata": {},
   "outputs": [],
   "source": [
    "'''\n",
    "加载negative和positive数据\n",
    "'''\n",
    "negative_list=[]\n",
    "positive_list=[]\n",
    "\n",
    "neg_path='utf8_negative.txt'\n",
    "pos_path='utf8_positive.txt'\n",
    "\n",
    "\n",
    "\n",
    "negative_list=load_words(neg_path,negative_list)\n",
    "positive_list=load_words(pos_path,positive_list)\n"
   ]
  },
  {
   "cell_type": "code",
   "execution_count": 44,
   "metadata": {},
   "outputs": [],
   "source": [
    "'''\n",
    "尝试分词\n",
    "'''\n",
    "# 为了寻找中文\n",
    "pattern = re.compile('[\\u4e00-\\u9fa5]+')\n",
    "title_list=raw_data['title'].tolist()\n",
    "# 关键词\n",
    "all_key_words=[]\n",
    "# 情感取向\n",
    "all_motion_list=[]\n",
    "for title in title_list:\n",
    "    cut_words=jieba.cut(title)\n",
    "    key_words=[]\n",
    "    motion_list=[[],[],[]]\n",
    "    for word in cut_words:\n",
    "        if word not in stop_words:\n",
    "            if len(pattern.findall(word))>0:\n",
    "                key_words.append(word)\n",
    "                if word in negative_list:\n",
    "                    motion_list[0].append(word)\n",
    "                elif word in positive_list:\n",
    "                    motion_list[1].append(word)\n",
    "                else:\n",
    "                    motion_list[2].append(word)\n",
    "                \n",
    "    all_key_words.append(key_words)\n",
    "    all_motion_list.append(motion_list)\n",
    "                \n",
    "        "
   ]
  },
  {
   "cell_type": "code",
   "execution_count": 49,
   "metadata": {},
   "outputs": [],
   "source": [
    "all_motion_list=np.asarray(all_motion_list)\n",
    "negative_words=all_motion_list[:,0]\n",
    "positive_words=all_motion_list[:,1]\n",
    "peaceful_words=all_motion_list[:,2]\n",
    "\n",
    "raw_data['negative']=negative_words\n",
    "raw_data['positive']=positive_words\n",
    "raw_data['peaceful']=peaceful_words"
   ]
  },
  {
   "cell_type": "code",
   "execution_count": 51,
   "metadata": {},
   "outputs": [
    {
     "data": {
      "text/html": [
       "<div>\n",
       "<style scoped>\n",
       "    .dataframe tbody tr th:only-of-type {\n",
       "        vertical-align: middle;\n",
       "    }\n",
       "\n",
       "    .dataframe tbody tr th {\n",
       "        vertical-align: top;\n",
       "    }\n",
       "\n",
       "    .dataframe thead th {\n",
       "        text-align: right;\n",
       "    }\n",
       "</style>\n",
       "<table border=\"1\" class=\"dataframe\">\n",
       "  <thead>\n",
       "    <tr style=\"text-align: right;\">\n",
       "      <th></th>\n",
       "      <th>comment</th>\n",
       "      <th>like</th>\n",
       "      <th>repost</th>\n",
       "      <th>title</th>\n",
       "      <th>negative</th>\n",
       "      <th>positive</th>\n",
       "      <th>peaceful</th>\n",
       "    </tr>\n",
       "  </thead>\n",
       "  <tbody>\n",
       "    <tr>\n",
       "      <th>0</th>\n",
       "      <td>3939</td>\n",
       "      <td>3197</td>\n",
       "      <td>7019</td>\n",
       "      <td>BBC推送： 7点25分左右泰国曼谷市中心发生大爆炸.... 在市中心旅游景点四面佛附近.....</td>\n",
       "      <td>[爆炸, 伤亡]</td>\n",
       "      <td>[]</td>\n",
       "      <td>[推送, 点, 分, 泰国, 曼谷, 市中心, 发生, 市中心, 旅游景点, 四面佛, 记者...</td>\n",
       "    </tr>\n",
       "    <tr>\n",
       "      <th>1</th>\n",
       "      <td>511</td>\n",
       "      <td>747</td>\n",
       "      <td>1097</td>\n",
       "      <td>BBC推送： 7点25分左右泰国曼谷市中心发生大爆炸.... 在市中心旅游景点四面佛附近.....</td>\n",
       "      <td>[爆炸, 伤亡]</td>\n",
       "      <td>[]</td>\n",
       "      <td>[推送, 点, 分, 泰国, 曼谷, 市中心, 发生, 市中心, 旅游景点, 四面佛, 记者...</td>\n",
       "    </tr>\n",
       "    <tr>\n",
       "      <th>2</th>\n",
       "      <td>542</td>\n",
       "      <td>2846</td>\n",
       "      <td>1328</td>\n",
       "      <td>话说。最近几年来，各种保守老旧的名字已经不能满足英国人了.... 最近英国公布了一份新生儿姓...</td>\n",
       "      <td>[保守]</td>\n",
       "      <td>[]</td>\n",
       "      <td>[话, 说, 老旧, 名字, 英国人, 英国, 公布, 一份, 新生儿, 姓名, 调查报告,...</td>\n",
       "    </tr>\n",
       "    <tr>\n",
       "      <th>3</th>\n",
       "      <td>723</td>\n",
       "      <td>4774</td>\n",
       "      <td>596</td>\n",
       "      <td>话说，有个妹纸最近做了个实验：【素颜的妹纸，美图前和美图后，约会软件上的男人们都会有怎样的反...</td>\n",
       "      <td>[]</td>\n",
       "      <td>[]</td>\n",
       "      <td>[话, 说, 有个, 妹纸, 做, 实验, 素颜, 妹纸, 美图, 前, 美图, 约会, 软...</td>\n",
       "    </tr>\n",
       "    <tr>\n",
       "      <th>4</th>\n",
       "      <td>96</td>\n",
       "      <td>828</td>\n",
       "      <td>244</td>\n",
       "      <td>【体验-伦敦】谁说看电影只能啃爆米花的？号称电影院里伙食最好的Edible Cinema把自...</td>\n",
       "      <td>[]</td>\n",
       "      <td>[美味, 精心, 享受, 享受]</td>\n",
       "      <td>[体验, 伦敦, 说, 电影, 只能, 啃, 爆米花, 号称, 电影院, 里, 伙食, 自制...</td>\n",
       "    </tr>\n",
       "    <tr>\n",
       "      <th>5</th>\n",
       "      <td>1058</td>\n",
       "      <td>4575</td>\n",
       "      <td>793</td>\n",
       "      <td>话说。。。这是世界上年龄最大的四胞胎母亲，今年已经65岁了.....在过去的几十年里，她和5...</td>\n",
       "      <td>[]</td>\n",
       "      <td>[]</td>\n",
       "      <td>[话, 说, 这是, 世界, 年龄, 四胞胎, 母亲, 岁, 几十年, 里, 男人, 生, ...</td>\n",
       "    </tr>\n",
       "    <tr>\n",
       "      <th>6</th>\n",
       "      <td>2932</td>\n",
       "      <td>7576</td>\n",
       "      <td>5975</td>\n",
       "      <td>最近网上红起来的一只吸血猫。。这对大虎牙天生就这样。主人给它起名Loki。就这幅恶煞萌的脸。...</td>\n",
       "      <td>[]</td>\n",
       "      <td>[]</td>\n",
       "      <td>[网上, 红, 一只, 吸血, 猫, 虎牙, 天生, 主人, 起名, 这幅, 恶煞, 萌, ...</td>\n",
       "    </tr>\n",
       "    <tr>\n",
       "      <th>7</th>\n",
       "      <td>55</td>\n",
       "      <td>377</td>\n",
       "      <td>75</td>\n",
       "      <td>#嘟嘟maid#嘿~主人们有没有想嘟嘟呢~这次把萌萌的西瓜哥哥从米其林餐厅请到了嘟嘟后厨准备...</td>\n",
       "      <td>[]</td>\n",
       "      <td>[嘟嘟, 嘟嘟, 嘟嘟, 美味, 可爱, 精美, 嘟嘟, 爱心]</td>\n",
       "      <td>[主, 有没有, 想, 萌萌, 西瓜, 哥哥, 米其林, 餐厅, 请, 后厨, 超多, 迎接...</td>\n",
       "    </tr>\n",
       "    <tr>\n",
       "      <th>8</th>\n",
       "      <td>2311</td>\n",
       "      <td>13482</td>\n",
       "      <td>9234</td>\n",
       "      <td>他从2001年就开始扮演蝙蝠侠，到各个儿童医院里探望生病的小朋友... 2012年，一段视频...</td>\n",
       "      <td>[生病, 故障]</td>\n",
       "      <td>[慈善, 勇气, 温暖, 英雄]</td>\n",
       "      <td>[年, 扮演, 蝙蝠侠, 儿童医院, 里, 探望, 小朋友, 年, 一段, 视频, 瞬间, ...</td>\n",
       "    </tr>\n",
       "    <tr>\n",
       "      <th>9</th>\n",
       "      <td>877</td>\n",
       "      <td>9438</td>\n",
       "      <td>1516</td>\n",
       "      <td>她只穿着内衣，站在伦敦最繁华的广场，只为了让人们爱惜自己的身体........ 事情是这样的...</td>\n",
       "      <td>[]</td>\n",
       "      <td>[]</td>\n",
       "      <td>[穿着, 内衣, 站, 伦敦, 繁华, 广场, 爱惜, 身体, 事情]</td>\n",
       "    </tr>\n",
       "  </tbody>\n",
       "</table>\n",
       "</div>"
      ],
      "text/plain": [
       "   comment   like  repost                                              title  \\\n",
       "0     3939   3197    7019  BBC推送： 7点25分左右泰国曼谷市中心发生大爆炸.... 在市中心旅游景点四面佛附近.....   \n",
       "1      511    747    1097  BBC推送： 7点25分左右泰国曼谷市中心发生大爆炸.... 在市中心旅游景点四面佛附近.....   \n",
       "2      542   2846    1328  话说。最近几年来，各种保守老旧的名字已经不能满足英国人了.... 最近英国公布了一份新生儿姓...   \n",
       "3      723   4774     596  话说，有个妹纸最近做了个实验：【素颜的妹纸，美图前和美图后，约会软件上的男人们都会有怎样的反...   \n",
       "4       96    828     244  【体验-伦敦】谁说看电影只能啃爆米花的？号称电影院里伙食最好的Edible Cinema把自...   \n",
       "5     1058   4575     793  话说。。。这是世界上年龄最大的四胞胎母亲，今年已经65岁了.....在过去的几十年里，她和5...   \n",
       "6     2932   7576    5975  最近网上红起来的一只吸血猫。。这对大虎牙天生就这样。主人给它起名Loki。就这幅恶煞萌的脸。...   \n",
       "7       55    377      75  #嘟嘟maid#嘿~主人们有没有想嘟嘟呢~这次把萌萌的西瓜哥哥从米其林餐厅请到了嘟嘟后厨准备...   \n",
       "8     2311  13482    9234  他从2001年就开始扮演蝙蝠侠，到各个儿童医院里探望生病的小朋友... 2012年，一段视频...   \n",
       "9      877   9438    1516  她只穿着内衣，站在伦敦最繁华的广场，只为了让人们爱惜自己的身体........ 事情是这样的...   \n",
       "\n",
       "   negative                          positive  \\\n",
       "0  [爆炸, 伤亡]                                []   \n",
       "1  [爆炸, 伤亡]                                []   \n",
       "2      [保守]                                []   \n",
       "3        []                                []   \n",
       "4        []                  [美味, 精心, 享受, 享受]   \n",
       "5        []                                []   \n",
       "6        []                                []   \n",
       "7        []  [嘟嘟, 嘟嘟, 嘟嘟, 美味, 可爱, 精美, 嘟嘟, 爱心]   \n",
       "8  [生病, 故障]                  [慈善, 勇气, 温暖, 英雄]   \n",
       "9        []                                []   \n",
       "\n",
       "                                            peaceful  \n",
       "0  [推送, 点, 分, 泰国, 曼谷, 市中心, 发生, 市中心, 旅游景点, 四面佛, 记者...  \n",
       "1  [推送, 点, 分, 泰国, 曼谷, 市中心, 发生, 市中心, 旅游景点, 四面佛, 记者...  \n",
       "2  [话, 说, 老旧, 名字, 英国人, 英国, 公布, 一份, 新生儿, 姓名, 调查报告,...  \n",
       "3  [话, 说, 有个, 妹纸, 做, 实验, 素颜, 妹纸, 美图, 前, 美图, 约会, 软...  \n",
       "4  [体验, 伦敦, 说, 电影, 只能, 啃, 爆米花, 号称, 电影院, 里, 伙食, 自制...  \n",
       "5  [话, 说, 这是, 世界, 年龄, 四胞胎, 母亲, 岁, 几十年, 里, 男人, 生, ...  \n",
       "6  [网上, 红, 一只, 吸血, 猫, 虎牙, 天生, 主人, 起名, 这幅, 恶煞, 萌, ...  \n",
       "7  [主, 有没有, 想, 萌萌, 西瓜, 哥哥, 米其林, 餐厅, 请, 后厨, 超多, 迎接...  \n",
       "8  [年, 扮演, 蝙蝠侠, 儿童医院, 里, 探望, 小朋友, 年, 一段, 视频, 瞬间, ...  \n",
       "9                [穿着, 内衣, 站, 伦敦, 繁华, 广场, 爱惜, 身体, 事情]  "
      ]
     },
     "execution_count": 51,
     "metadata": {},
     "output_type": "execute_result"
    }
   ],
   "source": [
    "raw_data.head(10)"
   ]
  },
  {
   "cell_type": "code",
   "execution_count": 34,
   "metadata": {},
   "outputs": [
    {
     "data": {
      "text/plain": [
       "[]"
      ]
     },
     "execution_count": 34,
     "metadata": {},
     "output_type": "execute_result"
    }
   ],
   "source": [
    "pattern = re.compile('[\\u4e00-\\u9fa5]+')\n",
    "aaaa='..'\n",
    "pattern.findall(aaaa)"
   ]
  },
  {
   "cell_type": "code",
   "execution_count": 53,
   "metadata": {},
   "outputs": [
    {
     "data": {
      "text/plain": [
       "'话说。最近几年来，各种保守老旧的名字已经不能满足英国人了.... 最近英国公布了一份新生儿姓名调查报告...用《权力的游戏》里的人物给自己宝宝起名的英国人越来越多了... 200多个Arya ...50多个Khaleesi....... '"
      ]
     },
     "execution_count": 53,
     "metadata": {},
     "output_type": "execute_result"
    }
   ],
   "source": [
    "raw_data.loc[2,'title']"
   ]
  },
  {
   "cell_type": "code",
   "execution_count": null,
   "metadata": {},
   "outputs": [],
   "source": []
  }
 ],
 "metadata": {
  "kernelspec": {
   "display_name": "Python 3",
   "language": "python",
   "name": "python3"
  },
  "language_info": {
   "codemirror_mode": {
    "name": "ipython",
    "version": 3
   },
   "file_extension": ".py",
   "mimetype": "text/x-python",
   "name": "python",
   "nbconvert_exporter": "python",
   "pygments_lexer": "ipython3",
   "version": "3.6.4"
  },
  "toc": {
   "base_numbering": 1,
   "nav_menu": {},
   "number_sections": true,
   "sideBar": true,
   "skip_h1_title": false,
   "title_cell": "Table of Contents",
   "title_sidebar": "Contents",
   "toc_cell": false,
   "toc_position": {},
   "toc_section_display": true,
   "toc_window_display": false
  }
 },
 "nbformat": 4,
 "nbformat_minor": 2
}
