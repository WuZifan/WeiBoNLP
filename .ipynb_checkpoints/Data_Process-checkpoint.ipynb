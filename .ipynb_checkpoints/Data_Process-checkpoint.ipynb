{
 "cells": [
  {
   "cell_type": "code",
   "execution_count": 5,
   "metadata": {},
   "outputs": [],
   "source": [
    "import pandas as pd\n",
    "import re"
   ]
  },
  {
   "cell_type": "code",
   "execution_count": 2,
   "metadata": {},
   "outputs": [],
   "source": [
    "raw_data=pd.read_csv('left_11335.csv')"
   ]
  },
  {
   "cell_type": "code",
   "execution_count": 4,
   "metadata": {},
   "outputs": [
    {
     "data": {
      "text/html": [
       "<div>\n",
       "<style scoped>\n",
       "    .dataframe tbody tr th:only-of-type {\n",
       "        vertical-align: middle;\n",
       "    }\n",
       "\n",
       "    .dataframe tbody tr th {\n",
       "        vertical-align: top;\n",
       "    }\n",
       "\n",
       "    .dataframe thead th {\n",
       "        text-align: right;\n",
       "    }\n",
       "</style>\n",
       "<table border=\"1\" class=\"dataframe\">\n",
       "  <thead>\n",
       "    <tr style=\"text-align: right;\">\n",
       "      <th></th>\n",
       "      <th>Unnamed: 0</th>\n",
       "      <th>comment</th>\n",
       "      <th>create_time</th>\n",
       "      <th>like</th>\n",
       "      <th>locate</th>\n",
       "      <th>repost</th>\n",
       "      <th>title</th>\n",
       "      <th>tools</th>\n",
       "      <th>like_nor</th>\n",
       "      <th>repost_nor</th>\n",
       "      <th>comment_nor</th>\n",
       "    </tr>\n",
       "  </thead>\n",
       "  <tbody>\n",
       "    <tr>\n",
       "      <th>0</th>\n",
       "      <td>11800</td>\n",
       "      <td>3939</td>\n",
       "      <td>2015-08-17 20:41</td>\n",
       "      <td>3197</td>\n",
       "      <td>无</td>\n",
       "      <td>7019</td>\n",
       "      <td>BBC推送： 7点25分左右泰国曼谷市中心发生大爆炸.... 在市中心旅游景点四面佛附近.....</td>\n",
       "      <td>微博 weibo.com</td>\n",
       "      <td>0.014482</td>\n",
       "      <td>0.059186</td>\n",
       "      <td>0.040136</td>\n",
       "    </tr>\n",
       "    <tr>\n",
       "      <th>1</th>\n",
       "      <td>11801</td>\n",
       "      <td>511</td>\n",
       "      <td>2015-08-17 21:38</td>\n",
       "      <td>747</td>\n",
       "      <td>无</td>\n",
       "      <td>1097</td>\n",
       "      <td>BBC推送： 7点25分左右泰国曼谷市中心发生大爆炸.... 在市中心旅游景点四面佛附近.....</td>\n",
       "      <td>微博 weibo.com</td>\n",
       "      <td>0.003384</td>\n",
       "      <td>0.009250</td>\n",
       "      <td>0.005207</td>\n",
       "    </tr>\n",
       "    <tr>\n",
       "      <th>2</th>\n",
       "      <td>11802</td>\n",
       "      <td>542</td>\n",
       "      <td>2015-08-17 22:07</td>\n",
       "      <td>2846</td>\n",
       "      <td>无</td>\n",
       "      <td>1328</td>\n",
       "      <td>话说。最近几年来，各种保守老旧的名字已经不能满足英国人了.... 最近英国公布了一份新生儿姓...</td>\n",
       "      <td>微博 weibo.com</td>\n",
       "      <td>0.012892</td>\n",
       "      <td>0.011198</td>\n",
       "      <td>0.005523</td>\n",
       "    </tr>\n",
       "    <tr>\n",
       "      <th>3</th>\n",
       "      <td>11803</td>\n",
       "      <td>723</td>\n",
       "      <td>2015-08-17 23:25</td>\n",
       "      <td>4774</td>\n",
       "      <td>无</td>\n",
       "      <td>596</td>\n",
       "      <td>话说，有个妹纸最近做了个实验：【素颜的妹纸，美图前和美图后，约会软件上的男人们都会有怎样的反...</td>\n",
       "      <td>微博 weibo.com</td>\n",
       "      <td>0.021626</td>\n",
       "      <td>0.005026</td>\n",
       "      <td>0.007367</td>\n",
       "    </tr>\n",
       "    <tr>\n",
       "      <th>4</th>\n",
       "      <td>11804</td>\n",
       "      <td>96</td>\n",
       "      <td>2015-08-17 23:59</td>\n",
       "      <td>828</td>\n",
       "      <td>无</td>\n",
       "      <td>244</td>\n",
       "      <td>【体验-伦敦】谁说看电影只能啃爆米花的？号称电影院里伙食最好的Edible Cinema把自...</td>\n",
       "      <td>街边捡来的iPhone 6</td>\n",
       "      <td>0.003751</td>\n",
       "      <td>0.002057</td>\n",
       "      <td>0.000978</td>\n",
       "    </tr>\n",
       "  </tbody>\n",
       "</table>\n",
       "</div>"
      ],
      "text/plain": [
       "   Unnamed: 0  comment       create_time  like locate  repost  \\\n",
       "0       11800     3939  2015-08-17 20:41  3197      无    7019   \n",
       "1       11801      511  2015-08-17 21:38   747      无    1097   \n",
       "2       11802      542  2015-08-17 22:07  2846      无    1328   \n",
       "3       11803      723  2015-08-17 23:25  4774      无     596   \n",
       "4       11804       96  2015-08-17 23:59   828      无     244   \n",
       "\n",
       "                                               title          tools  like_nor  \\\n",
       "0  BBC推送： 7点25分左右泰国曼谷市中心发生大爆炸.... 在市中心旅游景点四面佛附近.....   微博 weibo.com  0.014482   \n",
       "1  BBC推送： 7点25分左右泰国曼谷市中心发生大爆炸.... 在市中心旅游景点四面佛附近.....   微博 weibo.com  0.003384   \n",
       "2  话说。最近几年来，各种保守老旧的名字已经不能满足英国人了.... 最近英国公布了一份新生儿姓...   微博 weibo.com  0.012892   \n",
       "3  话说，有个妹纸最近做了个实验：【素颜的妹纸，美图前和美图后，约会软件上的男人们都会有怎样的反...   微博 weibo.com  0.021626   \n",
       "4  【体验-伦敦】谁说看电影只能啃爆米花的？号称电影院里伙食最好的Edible Cinema把自...  街边捡来的iPhone 6  0.003751   \n",
       "\n",
       "   repost_nor  comment_nor  \n",
       "0    0.059186     0.040136  \n",
       "1    0.009250     0.005207  \n",
       "2    0.011198     0.005523  \n",
       "3    0.005026     0.007367  \n",
       "4    0.002057     0.000978  "
      ]
     },
     "execution_count": 4,
     "metadata": {},
     "output_type": "execute_result"
    }
   ],
   "source": [
    "raw_data.head()"
   ]
  },
  {
   "cell_type": "code",
   "execution_count": 6,
   "metadata": {},
   "outputs": [],
   "source": [
    "test=raw_data.title[0]"
   ]
  },
  {
   "cell_type": "code",
   "execution_count": 45,
   "metadata": {},
   "outputs": [
    {
     "data": {
      "text/plain": [
       "'BBC推送：7点25分左右泰国曼谷市中心发生大爆炸....在市中心旅游景点四面佛附近....BBC记者表示现场伤亡严重....'"
      ]
     },
     "execution_count": 45,
     "metadata": {},
     "output_type": "execute_result"
    }
   ],
   "source": [
    "test=test.split()\n",
    "test=''.join(test)\n",
    "test"
   ]
  },
  {
   "cell_type": "code",
   "execution_count": 65,
   "metadata": {},
   "outputs": [],
   "source": [
    "# 过滤 任意多点号\n",
    "pattern=re.compile('[\\\\.]+')\n",
    "match=pattern.findall(test)"
   ]
  },
  {
   "cell_type": "code",
   "execution_count": 66,
   "metadata": {},
   "outputs": [
    {
     "data": {
      "text/plain": [
       "['....', '....', '....']"
      ]
     },
     "execution_count": 66,
     "metadata": {},
     "output_type": "execute_result"
    }
   ],
   "source": [
    "match"
   ]
  },
  {
   "cell_type": "code",
   "execution_count": 80,
   "metadata": {},
   "outputs": [],
   "source": [
    "res=test.split('')"
   ]
  },
  {
   "cell_type": "code",
   "execution_count": 81,
   "metadata": {},
   "outputs": [
    {
     "data": {
      "text/plain": [
       "['BBC推送：7点25分左右泰国曼谷市中心发生大爆炸....在市中心旅游景点四面佛附近....BBC记者表示现场伤亡严重....']"
      ]
     },
     "execution_count": 81,
     "metadata": {},
     "output_type": "execute_result"
    }
   ],
   "source": [
    "res"
   ]
  },
  {
   "cell_type": "code",
   "execution_count": 82,
   "metadata": {},
   "outputs": [
    {
     "data": {
      "text/plain": [
       "0        BBC推送： 7点25分左右泰国曼谷市中心发生大爆炸.... 在市中心旅游景点四面佛附近.....\n",
       "1        BBC推送： 7点25分左右泰国曼谷市中心发生大爆炸.... 在市中心旅游景点四面佛附近.....\n",
       "2        话说。最近几年来，各种保守老旧的名字已经不能满足英国人了.... 最近英国公布了一份新生儿姓...\n",
       "3        话说，有个妹纸最近做了个实验：【素颜的妹纸，美图前和美图后，约会软件上的男人们都会有怎样的反...\n",
       "4        【体验-伦敦】谁说看电影只能啃爆米花的？号称电影院里伙食最好的Edible Cinema把自...\n",
       "5        话说。。。这是世界上年龄最大的四胞胎母亲，今年已经65岁了.....在过去的几十年里，她和5...\n",
       "6        最近网上红起来的一只吸血猫。。这对大虎牙天生就这样。主人给它起名Loki。就这幅恶煞萌的脸。...\n",
       "7        #嘟嘟maid#嘿~主人们有没有想嘟嘟呢~这次把萌萌的西瓜哥哥从米其林餐厅请到了嘟嘟后厨准备...\n",
       "8        他从2001年就开始扮演蝙蝠侠，到各个儿童医院里探望生病的小朋友... 2012年，一段视频...\n",
       "9        她只穿着内衣，站在伦敦最繁华的广场，只为了让人们爱惜自己的身体........ 事情是这样的...\n",
       "10        又一个鼓励人读书的温馨活动...... 只要你拿着一本书上公交车去读.....就可以免票～～～ \n",
       "11       它是一只流浪狗，被人胡吃海塞的乱喂，居然给喂成了这么一个36公斤的大肥汪..... 然而最近...\n",
       "12       Foundation，A-level和本科学业成绩不理想么，别担心,你仍有机会进入英国名校学...\n",
       "13        话说... 不要再调戏Siri了.... 最近，Siri在关键时刻，救了这个小哥一命..... \n",
       "14       #吃货妹子小厨房# 【可爱又简单的马克杯早餐】早上起来急急忙忙的，很多小伙伴都表示没时间也没...\n",
       "15       #假装在国外# 大家好，我是人工翻译君小尾巴。8月13日起，关注@小尾巴Te ，带上话题#假...\n",
       "16        两个玩视觉错觉的跑酷小哥..... 他们拍了一个合辑.... 都有点炫............ \n",
       "17       当北极熊遇到夏天........... 加拿大摄影师拍下的一幕...... 不玩雪不抓海豹了...\n",
       "18       话说，七公举有个女儿控的老爹，我们是知道得透透的了...... 然而，人家不仅有个把她捧在手...\n",
       "19       庆祝#Aspinal of London入驻中国#，在寺库奢侈品网站正式上线啦！皇家钟爱的包...\n",
       "20       话说...有这么一群特殊的工作犬．．它们的主要职责，就是在法庭上安慰那些需要出庭作证的证人．...\n",
       "21       话说...有这么一群特殊的工作犬．．它们的主要职责，就是在法庭上安慰那些需要出庭作证的证人．...\n",
       "22       【完结篇！英国中学请来了5个中国老师之后】 经历了英国学生第一第二集的叛逆之后.. 老师们展...\n",
       "23       话说。最近英国一群在网上找外遇的狗男女们慌了..因为他们找外遇的网站被黑... 黑客下载了网...\n",
       "24       【中式教育 VS 英式教育 ： 英国网友怎么看？】 BBC的三集纪录片【中式教育】 在英国播...\n",
       "25       Buzzfeed上的一个妹纸...... 最近决定试验一下老外圈子里最火的7个手机修图软件....\n",
       "26       【完结篇！英国中学请来了5个中国老师之后】 经历了英国学生第一第二集的叛逆之后.. 老师们展...\n",
       "27       他在迪拜开了14年的出租车.... 送了无数的乘客去主题乐园.... 因为要攒钱，每次他都只...\n",
       "28       #黑衣人：安全守护者# 既然与地球相似度高达98%的行星已被发现，那么你认为是否需要提早准备...\n",
       "29       话说。。最近德国大众的工程师们FB上问了粉丝们一个问题....除了车之外，你认为我们还可以改...\n",
       "                               ...                        \n",
       "11305    又到了吃玉米的季节[馋嘴]…一位日推网友分享了一个简单又好吃的玉米饭制作方法，想学！[憧憬]...\n",
       "11306    #欧丽薇兰获纽约金奖#号外号外！明星厨王谢霆锋只带欧丽薇兰空降天猫锋味直播，问鼎食界杯用美食...\n",
       "11307    来姨妈前无法控制的狂躁不安与身体疼痛，有人被迫选择切除子宫，有人的婚姻甚至因此遭遇危机……受...\n",
       "11308    只想下车问个路，却被愤怒的村民当成人贩子围殴至死……听信网络谣言的村民，为了打击“拐卖儿童团...\n",
       "11309    #超级细菌拯救蛀牙#益生菌牙膏如何防蛀？云南白药益生菌儿童牙膏新加坡发布会成功启航，开启国际...\n",
       "11310    一个在英国当网红的小哥，人还没怎么大红大紫，家里这只颜艺拔群的二哈先火起来了[二哈][笑cry] \n",
       "11311    禁止女生穿内衣、内裤统一纯白色、生理期也要上游泳课[费解]……日本这些“奇葩校规”，简直让人...\n",
       "11312       世界各个国家和地区的人都怎么数钱的？  这很可以.... [允悲] 英国那些事儿的秒拍视频 \n",
       "11313    上台时羞涩无比，开唱后竟然画风突变宛如小狮子…13岁小女孩Courtney Hadwin的表...\n",
       "11314    语音助手Alexa死活听不懂苏格兰口音，这大姐又急又气，最终不得不憋出蜜汁英音的大杀招……太...\n",
       "11315    侏罗纪世界2上映在即，澳大利亚爬行动物园也为自家小奶狗们制作了一段“惊险刺激”的预告片——侏...\n",
       "11316    一位网友在瑞士文根搭乘火车时拍下的沿途风光……这样的自然景色真的太美好~[兔子][心]（re...\n",
       "11317    这年头，没有一技傍身怎么混江湖赚小鱼干？[喵喵][摊手]ins：norathepianoca...\n",
       "11318    #我是热爱# 【花游姐妹花与水割不断的缘分 | 361°×Figure亚运人物第六弹】作为妈...\n",
       "11319    车祸后截肢，这小哥干脆邀请了一堆朋友，把自己断腿肉切了吃掉......[生病]也是心大啊！！...\n",
       "11320             为了4.2美元的网友打赏，他走进大学，全程直播了自己制造的一场“炸弹袭击”…… \n",
       "11321    据说纹过身的人有很多都会后悔……这个世界上永远不缺失败的纹身，也永远不缺愿意把自己的糟心事说...\n",
       "11322    国家地理杂志旅行摄影大赛的一张获奖作品..... 在前景楼宇的衬托下，背后拔地而起的澳门新葡...\n",
       "11323    两个小男孩在继父母婚礼上演说，疯狂diss继父夸奖继母，把满堂宾客逗得既感动又狂笑[笑cry...\n",
       "11324         发现9岁的女儿又撒谎又欺负同学，这位妈妈把她的卧室搬空，改造成了“青少年拘留中心”…… \n",
       "11325    澳大利亚摄影师Jaimen Hudson最近有幸拍到了一群欢快地冲浪嬉戏的海豚……在蔚蓝的海...\n",
       "11326    揭幕战5-0大胜沙特，俄罗斯人民喜大普奔，就连棕熊都坐着吉普车吹着呜呜祖拉出来庆祝[允悲]…...\n",
       "11327      伦敦一位亚裔医生生完孩子一个月没有洗澡………关于坐月子这件事，外国网友真的无法理解…[允悲] \n",
       "11328    今晚世界杯开幕，中国小龙虾队身着番茄炒蛋配色球衣，正向我们走来，是不是帅爆啦[doge]！转...\n",
       "11329    “你好呀~~~我走啦~~~”[喵喵][偷笑]ins：apollon_114 英国那些事儿的秒...\n",
       "11330    【退税公司百万招中文员工，“小姐姐”、“支付宝”、“退税”成热门词】假期来啦！每到中国的小长...\n",
       "11331    10岁小男孩铲马粪攒钱买电脑，竟然被“偷粪大盗”洗劫一空……这偷的不是马粪，是别人的梦想和信...\n",
       "11332                迷恋微缩世界的19岁小哥，高中时期的作品就把网友看呆了…[哆啦A梦吃惊] \n",
       "11333          “如果可以，我真想让当年的我妈去堕胎！我多么希望自己从来没有出生过....”[伤心] \n",
       "11334     一个喜欢从海滩收集玻璃石的网友… 看他拍的图片，感觉好舒服… inst__seaglass__ \n",
       "Name: title, Length: 11335, dtype: object"
      ]
     },
     "execution_count": 82,
     "metadata": {},
     "output_type": "execute_result"
    }
   ],
   "source": [
    "raw_data.title"
   ]
  },
  {
   "cell_type": "code",
   "execution_count": 129,
   "metadata": {},
   "outputs": [
    {
     "data": {
      "text/plain": [
       "'【中式教育VS英式教育：英国网友怎么看？】BBC的三集纪录片【中式教育】在英国播..'"
      ]
     },
     "execution_count": 129,
     "metadata": {},
     "output_type": "execute_result"
    }
   ],
   "source": [
    "# 去空格后拿到一些话题名字\n",
    "test2='【中式教育 VS 英式教育 ： 英国网友怎么看？】 BBC的三集纪录片【中式教育】 在英国播..'\n",
    "test2=''.join(test2.split())\n",
    "pat2=re.compile('【[^】]+】')\n",
    "test2"
   ]
  },
  {
   "cell_type": "code",
   "execution_count": 130,
   "metadata": {},
   "outputs": [],
   "source": [
    "res2=pat2.findall(test2)"
   ]
  },
  {
   "cell_type": "code",
   "execution_count": 131,
   "metadata": {},
   "outputs": [
    {
     "data": {
      "text/plain": [
       "['【中式教育VS英式教育：英国网友怎么看？】', '【中式教育】']"
      ]
     },
     "execution_count": 131,
     "metadata": {},
     "output_type": "execute_result"
    }
   ],
   "source": [
    "res2"
   ]
  },
  {
   "cell_type": "code",
   "execution_count": 133,
   "metadata": {},
   "outputs": [
    {
     "data": {
      "text/plain": [
       "'你好呀~~~我走啦~~~”[喵喵][偷笑]ins：apollon_114英国那些事儿的秒...'"
      ]
     },
     "execution_count": 133,
     "metadata": {},
     "output_type": "execute_result"
    }
   ],
   "source": [
    "test3='你好呀~~~我走啦~~~”[喵喵][偷笑]ins：apollon_114 英国那些事儿的秒...'\n",
    "test3=''.join(test3.split())\n",
    "test3"
   ]
  },
  {
   "cell_type": "code",
   "execution_count": 136,
   "metadata": {},
   "outputs": [],
   "source": [
    "pat3=re.compile('\\\\[[^\\\\]]+\\\\]')\n",
    "res3=pat3.findall(test3)"
   ]
  },
  {
   "cell_type": "raw",
   "metadata": {},
   "source": []
  }
 ],
 "metadata": {
  "kernelspec": {
   "display_name": "Python 3",
   "language": "python",
   "name": "python3"
  },
  "language_info": {
   "codemirror_mode": {
    "name": "ipython",
    "version": 3
   },
   "file_extension": ".py",
   "mimetype": "text/x-python",
   "name": "python",
   "nbconvert_exporter": "python",
   "pygments_lexer": "ipython3",
   "version": "3.5.2"
  }
 },
 "nbformat": 4,
 "nbformat_minor": 2
}
