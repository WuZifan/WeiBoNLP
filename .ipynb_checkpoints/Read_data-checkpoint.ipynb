{
 "cells": [
  {
   "cell_type": "code",
   "execution_count": 2,
   "metadata": {},
   "outputs": [],
   "source": [
    "import pandas as pd\n",
    "import os"
   ]
  },
  {
   "cell_type": "code",
   "execution_count": 3,
   "metadata": {},
   "outputs": [
    {
     "data": {
      "text/plain": [
       "['2549228714_1253_1548.txt',\n",
       " '2549228714_1548_1843.txt',\n",
       " '2549228714_1_223.txt.txt',\n",
       " '2549228714_223_447.txt',\n",
       " '2549228714_963_1253.txt',\n",
       " '2549228714_2138_2433.txt',\n",
       " '2549228714_447_701.txt',\n",
       " '2549228714_1843_2138.txt',\n",
       " '2549228714_701_963.txt']"
      ]
     },
     "execution_count": 3,
     "metadata": {},
     "output_type": "execute_result"
    }
   ],
   "source": [
    "path='./raw_data/'\n",
    "file_list=os.listdir(path)\n",
    "file_list"
   ]
  },
  {
   "cell_type": "code",
   "execution_count": 18,
   "metadata": {},
   "outputs": [
    {
     "name": "stdout",
     "output_type": "stream",
     "text": [
      "['点赞数:', '3052', '转发数:', '573', '评论数:', '446']\n",
      "0\n",
      "['点赞数:', '3225', '转发数:', '1772', '评论数:', '2484']\n",
      "1\n"
     ]
    }
   ],
   "source": [
    "f=open(path+file_list[0],'r')\n",
    "for i,ll in enumerate(f.readlines()[11:23:6]):\n",
    "    print(ll.split())\n",
    "    print(i)"
   ]
  },
  {
   "cell_type": "code",
   "execution_count": null,
   "metadata": {},
   "outputs": [],
   "source": [
    "# 8,14,20..... 8+6*x\n",
    "wb_title=[]\n",
    "wb_locate=[]\n",
    "wb_create_time=[]\n",
    "wb_like=[]\n",
    "wb_repost=[]\n",
    "wb_comment=[]\n",
    "wb_tools=[]\n",
    "for fi in file_list:\n",
    "    temp_fi=open(path+fi,'r')\n",
    "    for i,li in enumerate(temp_fi.readlines()[8:]):\n",
    "        \n",
    "        if i%6==0: # title\n",
    "            wb_title.append(li[2:-1])\n",
    "        if i%6==1: # 发布位置\n",
    "            wb_locate.append(li[6:-1])\n",
    "        if i%6==2: # 发布时间\n",
    "            wb_create_time.append(li[6:-1])\n",
    "        if i%6==3: # 各种参数\n",
    "            wb_like.append(li.split()[1])\n",
    "            wb_repost.append(li.split()[3])\n",
    "            wb_comment.append(li.split()[5])\n",
    "        if i%6==4: # 发布工具\n",
    "            wb_tools.append(li[6:-1])\n",
    "        \n",
    "    \n",
    "    "
   ]
  }
 ],
 "metadata": {
  "kernelspec": {
   "display_name": "Python 3",
   "language": "python",
   "name": "python3"
  },
  "language_info": {
   "codemirror_mode": {
    "name": "ipython",
    "version": 3
   },
   "file_extension": ".py",
   "mimetype": "text/x-python",
   "name": "python",
   "nbconvert_exporter": "python",
   "pygments_lexer": "ipython3",
   "version": "3.6.3"
  },
  "toc": {
   "nav_menu": {},
   "number_sections": true,
   "sideBar": true,
   "skip_h1_title": false,
   "toc_cell": false,
   "toc_position": {},
   "toc_section_display": "block",
   "toc_window_display": false
  }
 },
 "nbformat": 4,
 "nbformat_minor": 2
}
