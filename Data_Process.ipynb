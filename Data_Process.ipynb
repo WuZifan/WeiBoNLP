{
 "cells": [
  {
   "cell_type": "code",
   "execution_count": 9,
   "metadata": {},
   "outputs": [],
   "source": [
    "import pandas as pd\n",
    "import jieba as jb"
   ]
  },
  {
   "cell_type": "code",
   "execution_count": 10,
   "metadata": {},
   "outputs": [],
   "source": [
    "clear_data=pd.read_csv('clear_data.csv')"
   ]
  },
  {
   "cell_type": "code",
   "execution_count": 11,
   "metadata": {},
   "outputs": [
    {
     "data": {
      "text/html": [
       "<div>\n",
       "<style scoped>\n",
       "    .dataframe tbody tr th:only-of-type {\n",
       "        vertical-align: middle;\n",
       "    }\n",
       "\n",
       "    .dataframe tbody tr th {\n",
       "        vertical-align: top;\n",
       "    }\n",
       "\n",
       "    .dataframe thead th {\n",
       "        text-align: right;\n",
       "    }\n",
       "</style>\n",
       "<table border=\"1\" class=\"dataframe\">\n",
       "  <thead>\n",
       "    <tr style=\"text-align: right;\">\n",
       "      <th></th>\n",
       "      <th>Unnamed: 0</th>\n",
       "      <th>Unnamed: 0.1</th>\n",
       "      <th>comment</th>\n",
       "      <th>create_time</th>\n",
       "      <th>like</th>\n",
       "      <th>locate</th>\n",
       "      <th>repost</th>\n",
       "      <th>title</th>\n",
       "      <th>tools</th>\n",
       "      <th>like_nor</th>\n",
       "      <th>repost_nor</th>\n",
       "      <th>comment_nor</th>\n",
       "      <th>fuhao</th>\n",
       "      <th>huati1</th>\n",
       "      <th>huati2</th>\n",
       "      <th>biaoqing</th>\n",
       "    </tr>\n",
       "  </thead>\n",
       "  <tbody>\n",
       "    <tr>\n",
       "      <th>0</th>\n",
       "      <td>0</td>\n",
       "      <td>11800</td>\n",
       "      <td>3939</td>\n",
       "      <td>2015-08-17 20:41</td>\n",
       "      <td>3197</td>\n",
       "      <td>无</td>\n",
       "      <td>7019</td>\n",
       "      <td>BBC推送： 7点25分左右泰国曼谷市中心发生大爆炸.... 在市中心旅游景点四面佛附近.....</td>\n",
       "      <td>微博 weibo.com</td>\n",
       "      <td>0.014482</td>\n",
       "      <td>0.059186</td>\n",
       "      <td>0.040136</td>\n",
       "      <td>.... .... ....</td>\n",
       "      <td>NaN</td>\n",
       "      <td>NaN</td>\n",
       "      <td>NaN</td>\n",
       "    </tr>\n",
       "    <tr>\n",
       "      <th>1</th>\n",
       "      <td>1</td>\n",
       "      <td>11801</td>\n",
       "      <td>511</td>\n",
       "      <td>2015-08-17 21:38</td>\n",
       "      <td>747</td>\n",
       "      <td>无</td>\n",
       "      <td>1097</td>\n",
       "      <td>BBC推送： 7点25分左右泰国曼谷市中心发生大爆炸.... 在市中心旅游景点四面佛附近.....</td>\n",
       "      <td>微博 weibo.com</td>\n",
       "      <td>0.003384</td>\n",
       "      <td>0.009250</td>\n",
       "      <td>0.005207</td>\n",
       "      <td>.... .... ....</td>\n",
       "      <td>NaN</td>\n",
       "      <td>NaN</td>\n",
       "      <td>NaN</td>\n",
       "    </tr>\n",
       "    <tr>\n",
       "      <th>2</th>\n",
       "      <td>2</td>\n",
       "      <td>11802</td>\n",
       "      <td>542</td>\n",
       "      <td>2015-08-17 22:07</td>\n",
       "      <td>2846</td>\n",
       "      <td>无</td>\n",
       "      <td>1328</td>\n",
       "      <td>话说。最近几年来，各种保守老旧的名字已经不能满足英国人了.... 最近英国公布了一份新生儿姓...</td>\n",
       "      <td>微博 weibo.com</td>\n",
       "      <td>0.012892</td>\n",
       "      <td>0.011198</td>\n",
       "      <td>0.005523</td>\n",
       "      <td>.... ... ... ... .......</td>\n",
       "      <td>NaN</td>\n",
       "      <td>NaN</td>\n",
       "      <td>NaN</td>\n",
       "    </tr>\n",
       "    <tr>\n",
       "      <th>3</th>\n",
       "      <td>3</td>\n",
       "      <td>11803</td>\n",
       "      <td>723</td>\n",
       "      <td>2015-08-17 23:25</td>\n",
       "      <td>4774</td>\n",
       "      <td>无</td>\n",
       "      <td>596</td>\n",
       "      <td>话说，有个妹纸最近做了个实验：【素颜的妹纸，美图前和美图后，约会软件上的男人们都会有怎样的反...</td>\n",
       "      <td>微博 weibo.com</td>\n",
       "      <td>0.021626</td>\n",
       "      <td>0.005026</td>\n",
       "      <td>0.007367</td>\n",
       "      <td>...... ....</td>\n",
       "      <td>【素颜的妹纸，美图前和美图后，约会软件上的男人们都会有怎样的反差？】</td>\n",
       "      <td>NaN</td>\n",
       "      <td>NaN</td>\n",
       "    </tr>\n",
       "    <tr>\n",
       "      <th>4</th>\n",
       "      <td>4</td>\n",
       "      <td>11804</td>\n",
       "      <td>96</td>\n",
       "      <td>2015-08-17 23:59</td>\n",
       "      <td>828</td>\n",
       "      <td>无</td>\n",
       "      <td>244</td>\n",
       "      <td>【体验-伦敦】谁说看电影只能啃爆米花的？号称电影院里伙食最好的Edible Cinema把自...</td>\n",
       "      <td>街边捡来的iPhone 6</td>\n",
       "      <td>0.003751</td>\n",
       "      <td>0.002057</td>\n",
       "      <td>0.000978</td>\n",
       "      <td>NaN</td>\n",
       "      <td>【体验-伦敦】</td>\n",
       "      <td>NaN</td>\n",
       "      <td>NaN</td>\n",
       "    </tr>\n",
       "  </tbody>\n",
       "</table>\n",
       "</div>"
      ],
      "text/plain": [
       "   Unnamed: 0  Unnamed: 0.1  comment       create_time  like locate  repost  \\\n",
       "0           0         11800     3939  2015-08-17 20:41  3197      无    7019   \n",
       "1           1         11801      511  2015-08-17 21:38   747      无    1097   \n",
       "2           2         11802      542  2015-08-17 22:07  2846      无    1328   \n",
       "3           3         11803      723  2015-08-17 23:25  4774      无     596   \n",
       "4           4         11804       96  2015-08-17 23:59   828      无     244   \n",
       "\n",
       "                                               title          tools  like_nor  \\\n",
       "0  BBC推送： 7点25分左右泰国曼谷市中心发生大爆炸.... 在市中心旅游景点四面佛附近.....   微博 weibo.com  0.014482   \n",
       "1  BBC推送： 7点25分左右泰国曼谷市中心发生大爆炸.... 在市中心旅游景点四面佛附近.....   微博 weibo.com  0.003384   \n",
       "2  话说。最近几年来，各种保守老旧的名字已经不能满足英国人了.... 最近英国公布了一份新生儿姓...   微博 weibo.com  0.012892   \n",
       "3  话说，有个妹纸最近做了个实验：【素颜的妹纸，美图前和美图后，约会软件上的男人们都会有怎样的反...   微博 weibo.com  0.021626   \n",
       "4  【体验-伦敦】谁说看电影只能啃爆米花的？号称电影院里伙食最好的Edible Cinema把自...  街边捡来的iPhone 6  0.003751   \n",
       "\n",
       "   repost_nor  comment_nor                     fuhao  \\\n",
       "0    0.059186     0.040136            .... .... ....   \n",
       "1    0.009250     0.005207            .... .... ....   \n",
       "2    0.011198     0.005523  .... ... ... ... .......   \n",
       "3    0.005026     0.007367               ...... ....   \n",
       "4    0.002057     0.000978                       NaN   \n",
       "\n",
       "                               huati1 huati2 biaoqing  \n",
       "0                                 NaN    NaN      NaN  \n",
       "1                                 NaN    NaN      NaN  \n",
       "2                                 NaN    NaN      NaN  \n",
       "3  【素颜的妹纸，美图前和美图后，约会软件上的男人们都会有怎样的反差？】    NaN      NaN  \n",
       "4                             【体验-伦敦】    NaN      NaN  "
      ]
     },
     "execution_count": 11,
     "metadata": {},
     "output_type": "execute_result"
    }
   ],
   "source": [
    "clear_data.head()"
   ]
  },
  {
   "cell_type": "code",
   "execution_count": 12,
   "metadata": {},
   "outputs": [
    {
     "data": {
      "text/plain": [
       "'BBC推送： 7点25分左右泰国曼谷市中心发生大爆炸.... 在市中心旅游景点四面佛附近.... BBC记者表示现场伤亡严重.... '"
      ]
     },
     "execution_count": 12,
     "metadata": {},
     "output_type": "execute_result"
    }
   ],
   "source": [
    "test1=clear_data.title[1]\n",
    "test1"
   ]
  },
  {
   "cell_type": "code",
   "execution_count": 13,
   "metadata": {},
   "outputs": [],
   "source": [
    "res=jb.cut(test1)"
   ]
  },
  {
   "cell_type": "code",
   "execution_count": 14,
   "metadata": {},
   "outputs": [
    {
     "data": {
      "text/plain": [
       "'BBC,推送,：, ,7,点,25,分,左右,泰国,曼谷,市中心,发生,大,爆炸,...., ,在,市中心,旅游景点,四面佛,附近,...., ,BBC,记者,表示,现场,伤亡,严重,...., '"
      ]
     },
     "execution_count": 14,
     "metadata": {},
     "output_type": "execute_result"
    }
   ],
   "source": [
    "','.join(res)"
   ]
  },
  {
   "cell_type": "code",
   "execution_count": null,
   "metadata": {},
   "outputs": [],
   "source": []
  }
 ],
 "metadata": {
  "kernelspec": {
   "display_name": "Python 3",
   "language": "python",
   "name": "python3"
  },
  "language_info": {
   "codemirror_mode": {
    "name": "ipython",
    "version": 3
   },
   "file_extension": ".py",
   "mimetype": "text/x-python",
   "name": "python",
   "nbconvert_exporter": "python",
   "pygments_lexer": "ipython3",
   "version": "3.5.2"
  }
 },
 "nbformat": 4,
 "nbformat_minor": 2
}
